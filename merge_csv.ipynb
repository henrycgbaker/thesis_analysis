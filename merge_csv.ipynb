{
 "cells": [
  {
   "cell_type": "code",
   "execution_count": 5,
   "id": "ab9eb62a",
   "metadata": {},
   "outputs": [],
   "source": [
    "import pandas as pd\n",
    "import sys\n",
    "\n",
    "def merge_csv_files(csv1_path: str, csv2_path: str, output_path: str = \"merged.csv\", \n",
    "                    standardise_cols: bool = False, deduplicate: bool = False):\n",
    "    # Load the two CSV files\n",
    "    csv1 = pd.read_csv(csv1_path)\n",
    "    csv2 = pd.read_csv(csv2_path)\n",
    "\n",
    "    # Optionally standardise column names: lowercase and strip whitespace\n",
    "    if standardise_cols:\n",
    "        csv1.columns = [col.strip().lower() for col in csv1.columns]\n",
    "        csv2.columns = [col.strip().lower() for col in csv2.columns]\n",
    "\n",
    "    # Compare column sets\n",
    "    set1 = set(csv1.columns)\n",
    "    set2 = set(csv2.columns)\n",
    "\n",
    "    if set1 != set2:\n",
    "        only_in_1 = set1 - set2\n",
    "        only_in_2 = set2 - set1\n",
    "\n",
    "        print(\"ERROR: Column names do not match between the two CSV files.\\n\", file=sys.stderr)\n",
    "        if only_in_1:\n",
    "            print(f\"Columns only in {csv1_path}:\", only_in_1, file=sys.stderr)\n",
    "        if only_in_2:\n",
    "            print(f\"Columns only in {csv2_path}:\", only_in_2, file=sys.stderr)\n",
    "        sys.exit(1)\n",
    "\n",
    "    # Reorder csv2 columns to match csv1\n",
    "    csv2 = csv2[csv1.columns]\n",
    "\n",
    "    # Merge\n",
    "    merged = pd.concat([csv1, csv2], ignore_index=True)\n",
    "\n",
    "    # Optional deduplication\n",
    "    if deduplicate:\n",
    "        before = len(merged)\n",
    "        merged.drop_duplicates(inplace=True)\n",
    "        after = len(merged)\n",
    "        print(f\"Removed {before - after} duplicate rows.\")\n",
    "\n",
    "    # Save\n",
    "    merged.to_csv(output_path, index=False)\n",
    "    print(f\"\\nMerge complete:\")\n",
    "    print(f\"  → {csv1_path}: {len(csv1)} rows\")\n",
    "    print(f\"  → {csv2_path}: {len(csv2)} rows\")\n",
    "    print(f\"  = Total rows in merged file: {len(merged)}\")\n",
    "    print(f\"Saved merged CSV to '{output_path}'\")\n",
    "\n",
    "    return merged"
   ]
  },
  {
   "cell_type": "code",
   "execution_count": null,
   "id": "14ff473e",
   "metadata": {},
   "outputs": [
    {
     "name": "stdout",
     "output_type": "stream",
     "text": [
      "Removed 0 duplicate rows.\n",
      "\n",
      "Merge complete:\n",
      "  → results_1B/scenarios_results.csv: 113 rows\n",
      "  → results_3B/scenarios_results.csv: 24 rows\n",
      "  = Total rows in merged file: 137\n",
      "Saved merged CSV to 'results/scenarios_results.csv'\n"
     ]
    }
   ],
   "source": [
    "csv1_path = \"results_1B/scenarios_results.csv\"\n",
    "csv2_path = \"results_3B/scenarios_results.csv\"\n",
    "\n",
    "output_path = \"results/scenarios_results.csv\"\n",
    "\n",
    "if __name__ == \"__main__\":\n",
    "    merge_csv_files(csv1_path, csv2_path, output_path, \n",
    "                    standardise_cols=True, \n",
    "                    deduplicate=True)\n",
    "    "
   ]
  },
  {
   "cell_type": "code",
   "execution_count": 7,
   "id": "73a4eeed",
   "metadata": {},
   "outputs": [],
   "source": [
    "csv_1 = pd.read_csv(csv1_path)"
   ]
  }
 ],
 "metadata": {
  "kernelspec": {
   "display_name": "thesis",
   "language": "python",
   "name": "python3"
  },
  "language_info": {
   "codemirror_mode": {
    "name": "ipython",
    "version": 3
   },
   "file_extension": ".py",
   "mimetype": "text/x-python",
   "name": "python",
   "nbconvert_exporter": "python",
   "pygments_lexer": "ipython3",
   "version": "3.12.9"
  }
 },
 "nbformat": 4,
 "nbformat_minor": 5
}
