{
 "cells": [
  {
   "cell_type": "code",
   "execution_count": null,
   "id": "0bcb5448",
   "metadata": {},
   "outputs": [],
   "source": [
    "import pandas as pd\n",
    "import re\n",
    "import os\n",
    "import matplotlib.pyplot as plt\n",
    "from IPython.display import display\n",
    "import warnings\n",
    "warnings.simplefilter('always')\n",
    "\n",
    "from scripts.a_data_loading_cleaning import run_load_clean_diagnose_data\n",
    "\n",
    "pd.set_option('display.max_columns', None)\n",
    "pd.set_option('display.max_rows', None)"
   ]
  },
  {
   "cell_type": "markdown",
   "id": "f05a4be2",
   "metadata": {},
   "source": [
    "# Data Loading & Cleaning"
   ]
  },
  {
   "cell_type": "code",
   "execution_count": null,
   "id": "b900b98f",
   "metadata": {},
   "outputs": [
    {
     "name": "stdout",
     "output_type": "stream",
     "text": [
      "✅ All rows have consistent 'total_generated_tokens' = 16384\n",
      "----------------------------------------------------------------------------------------------------\n",
      "⚠️ FLOPs values are NOT constant: [1.6949971e+13 0.0000000e+00]\n",
      "Original distribution:\n",
      "flops\n",
      "0.000000e+00    1\n",
      "1.694997e+13    9\n",
      "Name: count, dtype: int64\n",
      "- Dominant FLOPs value: 16949970993152.0\n",
      "- Affected rows count: 1\n",
      "- Affected row indices: [6]\n",
      "- Affected configs: ['R2_Low_Latency_Chatbot_Deployment']\n",
      "----------------------------------------------------------------------------------------------------\n",
      "✅ Total generated tokens value is constant: 16384\n",
      "Original distribution:\n",
      "total_generated_tokens\n",
      "16384    10\n",
      "Name: count, dtype: int64\n",
      "Identifying differentiators for FLOPs...\n",
      "FLOP Differentiators:\n",
      "fp_precision: {np.float64(16949970993152.0): 'torch.float16', np.float64(0.0): 'torch.float32'}\n",
      "flops_per_token: {np.float64(16949970993152.0): np.float64(1034544128.0), np.float64(0.0): np.float64(0.0)}\n",
      "----------------------------------------------------------------------------------------------------\n"
     ]
    },
    {
     "name": "stderr",
     "output_type": "stream",
     "text": [
      "/Users/henrybaker/repositories/thesis_analysis/scripts/a_data_loading_cleaning.py:522: UserWarning: ⚠️ FLOPs values are NOT constant: [1.6949971e+13 0.0000000e+00]\n",
      "  verify_flops(df)\n"
     ]
    }
   ],
   "source": [
    "csv_path = \"results/scenarios_results_complete_tinyllama.csv\"\n",
    "df = run_load_clean_diagnose_data(csv_path)"
   ]
  }
 ],
 "metadata": {
  "kernelspec": {
   "display_name": "thesis",
   "language": "python",
   "name": "python3"
  },
  "language_info": {
   "codemirror_mode": {
    "name": "ipython",
    "version": 3
   },
   "file_extension": ".py",
   "mimetype": "text/x-python",
   "name": "python",
   "nbconvert_exporter": "python",
   "pygments_lexer": "ipython3",
   "version": "3.12.9"
  }
 },
 "nbformat": 4,
 "nbformat_minor": 5
}
